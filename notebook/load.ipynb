{
 "cells": [
  {
   "cell_type": "code",
   "execution_count": 6,
   "metadata": {},
   "outputs": [],
   "source": [
    "import kaggle\n",
    "import os\n",
    "import zipfile"
   ]
  },
  {
   "cell_type": "code",
   "execution_count": 2,
   "metadata": {},
   "outputs": [
    {
     "name": "stdout",
     "output_type": "stream",
     "text": [
      "Download selesai!\n"
     ]
    }
   ],
   "source": [
    "# Download dataset dari kompetisi\n",
    "kaggle.api.competition_download_files('playground-series-s4e11', path=r'D:\\ml-baru\\pg2\\Playground-MentalHealth\\data\\raw')\n",
    "# kaggle competitions download -c playground-series-s4e11\n",
    "print(\"Download selesai!\")"
   ]
  },
  {
   "cell_type": "code",
   "execution_count": 7,
   "metadata": {},
   "outputs": [
    {
     "name": "stdout",
     "output_type": "stream",
     "text": [
      "Unzip selesai!\n"
     ]
    }
   ],
   "source": [
    "# Path ke zip file\n",
    "zip_path = r'D:\\ml-baru\\pg2\\Playground-MentalHealth\\data\\raw\\playground-series-s4e11.zip'\n",
    "extract_to = r'D:\\ml-baru\\pg2\\Playground-MentalHealth\\data\\raw'\n",
    "\n",
    "# Ekstrak file\n",
    "with zipfile.ZipFile(zip_path, 'r') as zip_ref:\n",
    "    zip_ref.extractall(extract_to)\n",
    "\n",
    "# Hapus file zip biar ga numpuk\n",
    "os.remove(zip_path)\n",
    "\n",
    "print(\"Unzip selesai!\")"
   ]
  }
 ],
 "metadata": {
  "kernelspec": {
   "display_name": "mlKlasik",
   "language": "python",
   "name": "python3"
  },
  "language_info": {
   "codemirror_mode": {
    "name": "ipython",
    "version": 3
   },
   "file_extension": ".py",
   "mimetype": "text/x-python",
   "name": "python",
   "nbconvert_exporter": "python",
   "pygments_lexer": "ipython3",
   "version": "3.9.21"
  }
 },
 "nbformat": 4,
 "nbformat_minor": 2
}
